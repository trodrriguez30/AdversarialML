{
 "cells": [
  {
   "cell_type": "code",
   "execution_count": 1,
   "metadata": {},
   "outputs": [],
   "source": [
    "import tensorflow as tf\n",
    "from sklearn.model_selection import KFold"
   ]
  },
  {
   "cell_type": "code",
   "execution_count": 2,
   "metadata": {},
   "outputs": [],
   "source": [
    "mnist = tf.keras.datasets.mnist\n",
    "\n",
    "(x_train, y_train), (x_test, y_test) = mnist.load_data()\n"
   ]
  },
  {
   "cell_type": "code",
   "execution_count": 3,
   "metadata": {},
   "outputs": [],
   "source": [
    "x_train, x_test = x_train / 255.0, x_test / 255.0"
   ]
  },
  {
   "cell_type": "code",
   "execution_count": 4,
   "metadata": {},
   "outputs": [],
   "source": [
    "kf = KFold(n_splits = 5)"
   ]
  },
  {
   "cell_type": "code",
   "execution_count": 5,
   "metadata": {},
   "outputs": [],
   "source": [
    "for train_index, val_index in kf.split(x_train):\n",
    "    x_trainNew, x_validate = x_train[train_index], x_train[val_index]\n",
    "    y_trainNew, y_validate = y_train[train_index], y_train[val_index]\n",
    "    "
   ]
  },
  {
   "cell_type": "code",
   "execution_count": 6,
   "metadata": {},
   "outputs": [],
   "source": [
    "model = tf.keras.models.Sequential([\n",
    "  tf.keras.layers.Flatten(input_shape=(28, 28)),\n",
    "  tf.keras.layers.Dense(128, activation='relu'),\n",
    "  tf.keras.layers.Dropout(0.2),\n",
    "  tf.keras.layers.Dense(10)\n",
    "])\n"
   ]
  },
  {
   "cell_type": "code",
   "execution_count": 7,
   "metadata": {},
   "outputs": [
    {
     "data": {
      "text/plain": [
       "<generator object _BaseKFold.split at 0x000002142862A848>"
      ]
     },
     "execution_count": 7,
     "metadata": {},
     "output_type": "execute_result"
    }
   ],
   "source": [
    "kf.split(x_train)"
   ]
  },
  {
   "cell_type": "code",
   "execution_count": 8,
   "metadata": {},
   "outputs": [
    {
     "data": {
      "text/plain": [
       "array([[-0.85231185, -0.5061152 ,  0.21140946,  0.1127475 , -0.25667885,\n",
       "        -0.0586899 , -0.04023675, -0.24536544,  0.06112645,  0.4756807 ],\n",
       "       [-1.0350385 , -0.40580457, -0.93333673,  0.06856631, -0.6305111 ,\n",
       "         0.2048776 ,  0.00366834,  0.03273303,  0.4099669 , -0.22577204],\n",
       "       [-0.23865262, -0.42915538, -0.31034172,  0.29246318, -0.12685513,\n",
       "         0.49829042,  0.26355657,  0.19392394,  0.03699117,  0.3807885 ],\n",
       "       [-0.60410786,  0.00400908, -0.31472147,  0.48002473, -0.11518032,\n",
       "        -0.03623477, -0.26611227, -0.14843903, -0.4917173 , -0.31001315],\n",
       "       [-0.601252  , -0.74800175, -0.12577091,  0.6477207 , -0.19930871,\n",
       "        -0.130093  ,  0.2809847 ,  0.449478  ,  0.14831081, -0.36909539]],\n",
       "      dtype=float32)"
      ]
     },
     "execution_count": 8,
     "metadata": {},
     "output_type": "execute_result"
    }
   ],
   "source": [
    "predictions = model(x_trainNew[:5]).numpy()\n",
    "predictions"
   ]
  },
  {
   "cell_type": "code",
   "execution_count": 9,
   "metadata": {},
   "outputs": [
    {
     "data": {
      "text/plain": [
       "array([[0.04481278, 0.06335095, 0.12982856, 0.11763101, 0.0812984 ,\n",
       "        0.0990986 , 0.10094427, 0.08222339, 0.11171284, 0.16909927],\n",
       "       [0.04136549, 0.0776088 , 0.04579379, 0.12471756, 0.06199007,\n",
       "        0.14293115, 0.1168807 , 0.12032764, 0.17546722, 0.09291762],\n",
       "       [0.07125107, 0.0588921 , 0.06632194, 0.12118588, 0.0796791 ,\n",
       "        0.14888182, 0.11773296, 0.10981382, 0.09386462, 0.13237661],\n",
       "       [0.06263799, 0.11506405, 0.08365979, 0.18521264, 0.10213541,\n",
       "        0.11052537, 0.08782688, 0.09879439, 0.07008877, 0.08405461],\n",
       "       [0.05345003, 0.04615464, 0.08598977, 0.18636739, 0.07989319,\n",
       "        0.08561892, 0.12915123, 0.15285309, 0.11310427, 0.06741744]],\n",
       "      dtype=float32)"
      ]
     },
     "execution_count": 9,
     "metadata": {},
     "output_type": "execute_result"
    }
   ],
   "source": [
    "tf.nn.softmax(predictions).numpy()"
   ]
  },
  {
   "cell_type": "code",
   "execution_count": 10,
   "metadata": {},
   "outputs": [],
   "source": [
    "loss_fn = tf.keras.losses.SparseCategoricalCrossentropy(from_logits=True)"
   ]
  },
  {
   "cell_type": "code",
   "execution_count": 11,
   "metadata": {},
   "outputs": [
    {
     "data": {
      "text/plain": [
       "2.577163"
      ]
     },
     "execution_count": 11,
     "metadata": {},
     "output_type": "execute_result"
    }
   ],
   "source": [
    "loss_fn(y_trainNew[:5], predictions).numpy()"
   ]
  },
  {
   "cell_type": "code",
   "execution_count": 12,
   "metadata": {},
   "outputs": [],
   "source": [
    "model.compile(optimizer='adam',\n",
    "              loss=loss_fn,\n",
    "              metrics=['accuracy'])"
   ]
  },
  {
   "cell_type": "code",
   "execution_count": 13,
   "metadata": {},
   "outputs": [
    {
     "name": "stdout",
     "output_type": "stream",
     "text": [
      "Epoch 1/10\n",
      "1200/1200 [==============================] - 2s 2ms/step - loss: 0.3179 - accuracy: 0.9077 - val_loss: 0.1337 - val_accuracy: 0.9618\n",
      "Epoch 2/10\n",
      "1200/1200 [==============================] - 2s 2ms/step - loss: 0.1500 - accuracy: 0.9563 - val_loss: 0.0940 - val_accuracy: 0.9740\n",
      "Epoch 3/10\n",
      "1200/1200 [==============================] - 2s 2ms/step - loss: 0.1144 - accuracy: 0.9658 - val_loss: 0.0652 - val_accuracy: 0.9808\n",
      "Epoch 4/10\n",
      "1200/1200 [==============================] - 2s 2ms/step - loss: 0.0944 - accuracy: 0.9717 - val_loss: 0.0564 - val_accuracy: 0.9834\n",
      "Epoch 5/10\n",
      "1200/1200 [==============================] - 2s 2ms/step - loss: 0.0774 - accuracy: 0.9768 - val_loss: 0.0404 - val_accuracy: 0.9882\n",
      "Epoch 6/10\n",
      "1200/1200 [==============================] - 2s 2ms/step - loss: 0.0678 - accuracy: 0.9787 - val_loss: 0.0331 - val_accuracy: 0.9907\n",
      "Epoch 7/10\n",
      "1200/1200 [==============================] - 2s 2ms/step - loss: 0.0614 - accuracy: 0.9807 - val_loss: 0.0311 - val_accuracy: 0.9908\n",
      "Epoch 8/10\n",
      "1200/1200 [==============================] - 2s 2ms/step - loss: 0.0522 - accuracy: 0.9833 - val_loss: 0.0249 - val_accuracy: 0.9934\n",
      "Epoch 9/10\n",
      "1200/1200 [==============================] - 2s 2ms/step - loss: 0.0491 - accuracy: 0.9834 - val_loss: 0.0216 - val_accuracy: 0.9937\n",
      "Epoch 10/10\n",
      "1200/1200 [==============================] - 2s 2ms/step - loss: 0.0441 - accuracy: 0.9858 - val_loss: 0.0172 - val_accuracy: 0.9958\n"
     ]
    },
    {
     "data": {
      "text/plain": [
       "<tensorflow.python.keras.callbacks.History at 0x21429bbb208>"
      ]
     },
     "execution_count": 13,
     "metadata": {},
     "output_type": "execute_result"
    }
   ],
   "source": [
    "model.fit(x_train, y_train, epochs=10, validation_data = (x_validate, y_validate), batch_size = 50)"
   ]
  },
  {
   "cell_type": "code",
   "execution_count": 14,
   "metadata": {},
   "outputs": [
    {
     "name": "stdout",
     "output_type": "stream",
     "text": [
      "313/313 - 0s - loss: 0.0668 - accuracy: 0.9801\n"
     ]
    },
    {
     "data": {
      "text/plain": [
       "[0.06675589084625244, 0.9800999760627747]"
      ]
     },
     "execution_count": 14,
     "metadata": {},
     "output_type": "execute_result"
    }
   ],
   "source": [
    "model.evaluate(x_test,  y_test, verbose=2)"
   ]
  },
  {
   "cell_type": "code",
   "execution_count": 15,
   "metadata": {},
   "outputs": [],
   "source": [
    "probability_model = tf.keras.Sequential([\n",
    "  model,\n",
    "  tf.keras.layers.Softmax()\n",
    "])"
   ]
  },
  {
   "cell_type": "code",
   "execution_count": 16,
   "metadata": {
    "scrolled": false
   },
   "outputs": [
    {
     "data": {
      "text/plain": [
       "<tf.Tensor: shape=(5, 10), dtype=float32, numpy=\n",
       "array([[6.97517211e-10, 6.09249262e-10, 1.00058621e-07, 1.47124074e-05,\n",
       "        9.19766542e-13, 5.60788660e-09, 1.41871391e-15, 9.99984980e-01,\n",
       "        3.58333736e-08, 2.13455323e-07],\n",
       "       [8.29135445e-08, 1.04149640e-05, 9.99986887e-01, 2.46234822e-06,\n",
       "        9.11909401e-24, 6.95834359e-08, 1.65091374e-09, 2.47209068e-18,\n",
       "        1.96306038e-09, 2.54175635e-16],\n",
       "       [1.49227134e-07, 9.99889374e-01, 7.91518869e-06, 4.63742367e-07,\n",
       "        3.54947178e-06, 1.91749990e-07, 1.24896314e-06, 8.42537338e-05,\n",
       "        1.26392715e-05, 1.80556228e-07],\n",
       "       [9.99994516e-01, 1.25199165e-11, 3.35348818e-06, 1.74167722e-10,\n",
       "        1.82579132e-10, 4.33108438e-09, 4.49571075e-07, 1.44902606e-06,\n",
       "        2.82718982e-09, 2.78990939e-07],\n",
       "       [3.34322863e-06, 8.63313518e-11, 7.52770063e-07, 1.31489157e-08,\n",
       "        9.74148631e-01, 2.60043464e-07, 1.00414617e-07, 4.89943603e-04,\n",
       "        2.73274054e-07, 2.53568552e-02]], dtype=float32)>"
      ]
     },
     "execution_count": 16,
     "metadata": {},
     "output_type": "execute_result"
    }
   ],
   "source": [
    "probability_model(x_test[:5])"
   ]
  },
  {
   "cell_type": "code",
   "execution_count": 17,
   "metadata": {},
   "outputs": [],
   "source": [
    "#Without KFold: accuracy = .9764, init loss function = 2.689857\n",
    "#With KFold: accuracy = .9762, init loss function = 2.3394208"
   ]
  }
 ],
 "metadata": {
  "kernelspec": {
   "display_name": "Python 3",
   "language": "python",
   "name": "python3"
  },
  "language_info": {
   "codemirror_mode": {
    "name": "ipython",
    "version": 3
   },
   "file_extension": ".py",
   "mimetype": "text/x-python",
   "name": "python",
   "nbconvert_exporter": "python",
   "pygments_lexer": "ipython3",
   "version": "3.7.6"
  }
 },
 "nbformat": 4,
 "nbformat_minor": 4
}
