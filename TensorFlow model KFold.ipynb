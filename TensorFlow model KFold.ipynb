{
 "cells": [
  {
   "cell_type": "code",
   "execution_count": 1,
   "metadata": {},
   "outputs": [],
   "source": [
    "import tensorflow as tf\n",
    "from sklearn.model_selection import KFold"
   ]
  },
  {
   "cell_type": "code",
   "execution_count": 2,
   "metadata": {},
   "outputs": [],
   "source": [
    "mnist = tf.keras.datasets.mnist\n",
    "\n",
    "(x_train, y_train), (x_test, y_test) = mnist.load_data()\n"
   ]
  },
  {
   "cell_type": "code",
   "execution_count": 3,
   "metadata": {},
   "outputs": [],
   "source": [
    "x_train, x_test = x_train / 255.0, x_test / 255.0"
   ]
  },
  {
   "cell_type": "code",
   "execution_count": 4,
   "metadata": {},
   "outputs": [],
   "source": [
    "kf = KFold(n_splits = 5)"
   ]
  },
  {
   "cell_type": "code",
   "execution_count": 5,
   "metadata": {},
   "outputs": [],
   "source": [
    "model = tf.keras.models.Sequential([\n",
    "  tf.keras.layers.Flatten(input_shape=(28, 28)),\n",
    "  tf.keras.layers.Dense(128, activation='relu'),\n",
    "  tf.keras.layers.Dropout(0.2),\n",
    "  tf.keras.layers.Dense(10)\n",
    "])\n"
   ]
  },
  {
   "cell_type": "code",
   "execution_count": 6,
   "metadata": {},
   "outputs": [
    {
     "data": {
      "text/plain": [
       "<generator object _BaseKFold.split at 0x000001EDB91A52C8>"
      ]
     },
     "execution_count": 6,
     "metadata": {},
     "output_type": "execute_result"
    }
   ],
   "source": [
    "kf.split(x_train)"
   ]
  },
  {
   "cell_type": "code",
   "execution_count": 7,
   "metadata": {},
   "outputs": [
    {
     "data": {
      "text/plain": [
       "array([[-0.6103816 , -0.41997966,  0.14946318, -0.04782834,  0.17167467,\n",
       "         0.20476808,  0.4076767 , -0.23447783, -0.60223657,  0.35189342],\n",
       "       [-0.643192  , -0.4727316 ,  0.20201564, -0.08087192,  0.06850795,\n",
       "        -0.3013882 ,  0.4520133 , -0.21353357, -1.2889848 ,  0.00162144],\n",
       "       [-0.47593737, -0.39901006, -0.10537577, -0.1590545 , -0.25225252,\n",
       "        -0.351565  , -0.0794953 ,  0.22365116, -0.7914154 ,  0.08833379],\n",
       "       [ 0.03803064, -0.01910157,  0.06106504,  0.2536093 ,  0.06013159,\n",
       "         0.04439706, -0.06494199,  0.378047  , -0.45915103,  0.2240289 ],\n",
       "       [-0.4285374 , -0.12855946,  0.5438916 , -0.27724633,  0.16613375,\n",
       "        -0.45871526,  0.05142509,  0.29334736, -0.8370523 ,  0.04908826]],\n",
       "      dtype=float32)"
      ]
     },
     "execution_count": 7,
     "metadata": {},
     "output_type": "execute_result"
    }
   ],
   "source": [
    "predictions = model(x_train[:5]).numpy()\n",
    "predictions"
   ]
  },
  {
   "cell_type": "code",
   "execution_count": 8,
   "metadata": {},
   "outputs": [
    {
     "data": {
      "text/plain": [
       "array([[0.054353  , 0.06575276, 0.11620368, 0.09539756, 0.11881362,\n",
       "        0.12281135, 0.15043905, 0.07915465, 0.05479752, 0.14227685],\n",
       "       [0.05998658, 0.07113513, 0.13967644, 0.1052608 , 0.12221978,\n",
       "        0.08443017, 0.17934768, 0.09218334, 0.03144778, 0.11431233],\n",
       "       [0.07534929, 0.0813745 , 0.10914706, 0.10344266, 0.09423762,\n",
       "        0.08532836, 0.11200871, 0.15167242, 0.0549628 , 0.13247655],\n",
       "       [0.09655428, 0.09119255, 0.09880417, 0.11978327, 0.09871198,\n",
       "        0.09717095, 0.08710661, 0.13565592, 0.05872842, 0.11629193],\n",
       "       [0.06715271, 0.09064467, 0.17757593, 0.07812112, 0.12170991,\n",
       "        0.06515645, 0.1085197 , 0.13822103, 0.04463215, 0.10826641]],\n",
       "      dtype=float32)"
      ]
     },
     "execution_count": 8,
     "metadata": {},
     "output_type": "execute_result"
    }
   ],
   "source": [
    "tf.nn.softmax(predictions).numpy()"
   ]
  },
  {
   "cell_type": "code",
   "execution_count": 9,
   "metadata": {},
   "outputs": [],
   "source": [
    "loss_fn = tf.keras.losses.SparseCategoricalCrossentropy(from_logits=True)"
   ]
  },
  {
   "cell_type": "code",
   "execution_count": 10,
   "metadata": {},
   "outputs": [
    {
     "data": {
      "text/plain": [
       "2.3781235"
      ]
     },
     "execution_count": 10,
     "metadata": {},
     "output_type": "execute_result"
    }
   ],
   "source": [
    "loss_fn(y_train[:5], predictions).numpy()"
   ]
  },
  {
   "cell_type": "code",
   "execution_count": 11,
   "metadata": {},
   "outputs": [],
   "source": [
    "model.compile(optimizer='adam',\n",
    "              loss=loss_fn,\n",
    "              metrics=['accuracy'])"
   ]
  },
  {
   "cell_type": "code",
   "execution_count": 12,
   "metadata": {},
   "outputs": [
    {
     "name": "stdout",
     "output_type": "stream",
     "text": [
      "Epoch 1/5\n",
      "960/960 [==============================] - 2s 2ms/step - loss: 0.3551 - accuracy: 0.8983 - val_loss: 0.1847 - val_accuracy: 0.9464\n",
      "Epoch 2/5\n",
      "960/960 [==============================] - 2s 2ms/step - loss: 0.1719 - accuracy: 0.9505 - val_loss: 0.1344 - val_accuracy: 0.9600\n",
      "Epoch 3/5\n",
      "960/960 [==============================] - 1s 2ms/step - loss: 0.1264 - accuracy: 0.9635 - val_loss: 0.1029 - val_accuracy: 0.9700\n",
      "Epoch 4/5\n",
      "960/960 [==============================] - 1s 2ms/step - loss: 0.1016 - accuracy: 0.9695 - val_loss: 0.0908 - val_accuracy: 0.9719\n",
      "Epoch 5/5\n",
      "960/960 [==============================] - 1s 2ms/step - loss: 0.0853 - accuracy: 0.9745 - val_loss: 0.0867 - val_accuracy: 0.9745\n",
      "Epoch 1/5\n",
      "960/960 [==============================] - 2s 2ms/step - loss: 0.0823 - accuracy: 0.9750 - val_loss: 0.0509 - val_accuracy: 0.9856\n",
      "Epoch 2/5\n",
      "960/960 [==============================] - 1s 2ms/step - loss: 0.0685 - accuracy: 0.9789 - val_loss: 0.0531 - val_accuracy: 0.9833\n",
      "Epoch 3/5\n",
      "960/960 [==============================] - 2s 2ms/step - loss: 0.0609 - accuracy: 0.9804 - val_loss: 0.0510 - val_accuracy: 0.9839\n",
      "Epoch 4/5\n",
      "960/960 [==============================] - 2s 2ms/step - loss: 0.0540 - accuracy: 0.9825 - val_loss: 0.0525 - val_accuracy: 0.9847\n",
      "Epoch 5/5\n",
      "960/960 [==============================] - 1s 2ms/step - loss: 0.0485 - accuracy: 0.9848 - val_loss: 0.0503 - val_accuracy: 0.9844\n",
      "Epoch 1/5\n",
      "960/960 [==============================] - 1s 2ms/step - loss: 0.0542 - accuracy: 0.9821 - val_loss: 0.0286 - val_accuracy: 0.9908\n",
      "Epoch 2/5\n",
      "960/960 [==============================] - 2s 2ms/step - loss: 0.0462 - accuracy: 0.9853 - val_loss: 0.0301 - val_accuracy: 0.9904\n",
      "Epoch 3/5\n",
      "960/960 [==============================] - 2s 2ms/step - loss: 0.0407 - accuracy: 0.9868 - val_loss: 0.0292 - val_accuracy: 0.9912\n",
      "Epoch 4/5\n",
      "960/960 [==============================] - 2s 2ms/step - loss: 0.0376 - accuracy: 0.9876 - val_loss: 0.0370 - val_accuracy: 0.9887\n",
      "Epoch 5/5\n",
      "960/960 [==============================] - 1s 2ms/step - loss: 0.0338 - accuracy: 0.9886 - val_loss: 0.0349 - val_accuracy: 0.9893\n",
      "Epoch 1/5\n",
      "960/960 [==============================] - 1s 2ms/step - loss: 0.0374 - accuracy: 0.9881 - val_loss: 0.0162 - val_accuracy: 0.9952\n",
      "Epoch 2/5\n",
      "960/960 [==============================] - 1s 2ms/step - loss: 0.0345 - accuracy: 0.9883 - val_loss: 0.0198 - val_accuracy: 0.9944\n",
      "Epoch 3/5\n",
      "960/960 [==============================] - 2s 2ms/step - loss: 0.0293 - accuracy: 0.9900 - val_loss: 0.0214 - val_accuracy: 0.9927\n",
      "Epoch 4/5\n",
      "960/960 [==============================] - 2s 2ms/step - loss: 0.0297 - accuracy: 0.9899 - val_loss: 0.0243 - val_accuracy: 0.9913\n",
      "Epoch 5/5\n",
      "960/960 [==============================] - 1s 2ms/step - loss: 0.0281 - accuracy: 0.9901 - val_loss: 0.0239 - val_accuracy: 0.9926\n",
      "Epoch 1/5\n",
      "960/960 [==============================] - 2s 2ms/step - loss: 0.0341 - accuracy: 0.9886 - val_loss: 0.0102 - val_accuracy: 0.9967\n",
      "Epoch 2/5\n",
      "960/960 [==============================] - 1s 2ms/step - loss: 0.0277 - accuracy: 0.9900 - val_loss: 0.0125 - val_accuracy: 0.9962\n",
      "Epoch 3/5\n",
      "960/960 [==============================] - 1s 2ms/step - loss: 0.0258 - accuracy: 0.9912 - val_loss: 0.0107 - val_accuracy: 0.9963\n",
      "Epoch 4/5\n",
      "960/960 [==============================] - 1s 2ms/step - loss: 0.0238 - accuracy: 0.9917 - val_loss: 0.0142 - val_accuracy: 0.9960\n",
      "Epoch 5/5\n",
      "960/960 [==============================] - 1s 2ms/step - loss: 0.0240 - accuracy: 0.9923 - val_loss: 0.0159 - val_accuracy: 0.9946\n"
     ]
    }
   ],
   "source": [
    "for train_index, val_index in kf.split(x_train):\n",
    "    x_trainNew, x_validate = x_train[train_index], x_train[val_index]\n",
    "    y_trainNew, y_validate = y_train[train_index], y_train[val_index]\n",
    "    \n",
    "    model.fit(x_trainNew, y_trainNew, epochs=5, validation_data = (x_validate, y_validate), batch_size = 50)\n",
    "    "
   ]
  },
  {
   "cell_type": "code",
   "execution_count": null,
   "metadata": {},
   "outputs": [],
   "source": []
  },
  {
   "cell_type": "code",
   "execution_count": 13,
   "metadata": {},
   "outputs": [
    {
     "name": "stdout",
     "output_type": "stream",
     "text": [
      "313/313 - 0s - loss: 0.0725 - accuracy: 0.9805\n"
     ]
    },
    {
     "data": {
      "text/plain": [
       "[0.07254493981599808, 0.9804999828338623]"
      ]
     },
     "execution_count": 13,
     "metadata": {},
     "output_type": "execute_result"
    }
   ],
   "source": [
    "model.evaluate(x_test,  y_test, verbose=2)"
   ]
  },
  {
   "cell_type": "code",
   "execution_count": 14,
   "metadata": {},
   "outputs": [],
   "source": [
    "probability_model = tf.keras.Sequential([\n",
    "  model,\n",
    "  tf.keras.layers.Softmax()\n",
    "])"
   ]
  },
  {
   "cell_type": "code",
   "execution_count": 15,
   "metadata": {
    "scrolled": false
   },
   "outputs": [
    {
     "data": {
      "text/plain": [
       "<tf.Tensor: shape=(5, 10), dtype=float32, numpy=\n",
       "array([[3.25713796e-11, 5.03521006e-14, 1.83191559e-10, 3.90369337e-07,\n",
       "        1.13428109e-15, 1.36919230e-13, 1.06727958e-22, 9.99999642e-01,\n",
       "        1.73815996e-12, 2.80400592e-08],\n",
       "       [6.71014472e-17, 1.70523364e-07, 9.99999881e-01, 4.72340889e-10,\n",
       "        6.29816849e-31, 5.28639155e-12, 1.51620433e-15, 2.19816399e-26,\n",
       "        2.78530454e-14, 5.33089007e-24],\n",
       "       [1.89692720e-10, 9.99962568e-01, 5.01450756e-07, 6.18578655e-09,\n",
       "        1.39758455e-07, 6.23047436e-09, 2.79122929e-08, 4.88229625e-06,\n",
       "        3.19210303e-05, 2.51979743e-10],\n",
       "       [9.99997616e-01, 8.66567490e-19, 2.37905942e-06, 6.90308435e-11,\n",
       "        4.34628916e-10, 1.83133029e-08, 1.31349935e-08, 2.39479669e-11,\n",
       "        1.40284055e-14, 3.93844291e-09],\n",
       "       [2.28458530e-10, 9.11818146e-19, 1.07226977e-10, 1.41241600e-14,\n",
       "        9.99678254e-01, 7.02919981e-13, 1.69534642e-09, 4.78800030e-06,\n",
       "        8.18539903e-09, 3.16962891e-04]], dtype=float32)>"
      ]
     },
     "execution_count": 15,
     "metadata": {},
     "output_type": "execute_result"
    }
   ],
   "source": [
    "probability_model(x_test[:5])"
   ]
  },
  {
   "cell_type": "code",
   "execution_count": 16,
   "metadata": {},
   "outputs": [],
   "source": [
    "#Without KFold: accuracy = .9764, init loss function = 2.689857\n",
    "#With KFold: accuracy = .9762, init loss function = 2.3394208"
   ]
  }
 ],
 "metadata": {
  "kernelspec": {
   "display_name": "Python 3",
   "language": "python",
   "name": "python3"
  },
  "language_info": {
   "codemirror_mode": {
    "name": "ipython",
    "version": 3
   },
   "file_extension": ".py",
   "mimetype": "text/x-python",
   "name": "python",
   "nbconvert_exporter": "python",
   "pygments_lexer": "ipython3",
   "version": "3.7.6"
  }
 },
 "nbformat": 4,
 "nbformat_minor": 4
}
