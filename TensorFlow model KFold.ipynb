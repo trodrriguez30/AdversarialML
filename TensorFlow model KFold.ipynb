{
 "cells": [
  {
   "cell_type": "code",
   "execution_count": 1,
   "metadata": {},
   "outputs": [],
   "source": [
    "import tensorflow as tf\n",
    "from sklearn.model_selection import KFold"
   ]
  },
  {
   "cell_type": "code",
   "execution_count": 2,
   "metadata": {},
   "outputs": [],
   "source": [
    "mnist = tf.keras.datasets.mnist\n",
    "\n",
    "(x_train, y_train), (x_test, y_test) = mnist.load_data()\n"
   ]
  },
  {
   "cell_type": "code",
   "execution_count": 3,
   "metadata": {},
   "outputs": [],
   "source": [
    "x_train, x_test = x_train / 255.0, x_test / 255.0"
   ]
  },
  {
   "cell_type": "code",
   "execution_count": 4,
   "metadata": {},
   "outputs": [],
   "source": [
    "kf = KFold(n_splits = 5)"
   ]
  },
  {
   "cell_type": "code",
   "execution_count": 5,
   "metadata": {},
   "outputs": [],
   "source": [
    "for train_index, val_index in kf.split(x_train):\n",
    "    x_trainNew, x_validate = x_train[train_index], x_train[val_index]\n",
    "    y_trainNew, y_validate = y_train[train_index], y_train[val_index]\n",
    "    "
   ]
  },
  {
   "cell_type": "code",
   "execution_count": 6,
   "metadata": {},
   "outputs": [],
   "source": [
    "model = tf.keras.models.Sequential([\n",
    "  tf.keras.layers.Flatten(input_shape=(28, 28)),\n",
    "  tf.keras.layers.Dense(128, activation='relu'),\n",
    "  tf.keras.layers.Dropout(0.2),\n",
    "  tf.keras.layers.Dense(10)\n",
    "])\n"
   ]
  },
  {
   "cell_type": "code",
   "execution_count": 7,
   "metadata": {},
   "outputs": [
    {
     "data": {
      "text/plain": [
       "<generator object _BaseKFold.split at 0x0000017E8000A848>"
      ]
     },
     "execution_count": 7,
     "metadata": {},
     "output_type": "execute_result"
    }
   ],
   "source": [
    "kf.split(x_train)"
   ]
  },
  {
   "cell_type": "code",
   "execution_count": 8,
   "metadata": {},
   "outputs": [
    {
     "data": {
      "text/plain": [
       "array([[-0.571072  ,  0.83509773, -0.15391701, -0.39496958,  0.7063258 ,\n",
       "         0.37201017,  1.4620622 , -0.9143964 , -0.83755136, -0.38084546],\n",
       "       [-0.9527608 ,  0.14784567, -0.2679388 , -0.07845181, -0.33480912,\n",
       "         0.19641508,  1.2308495 , -0.6657421 , -0.68703675, -0.80821353],\n",
       "       [-0.03526473,  0.28834036, -0.32047972,  0.0362225 ,  0.72351694,\n",
       "         0.14720201,  0.5273224 , -0.41031712, -0.589844  , -0.6482325 ],\n",
       "       [-0.27235404,  0.3137295 , -0.5234158 , -0.37652516,  0.49805793,\n",
       "         0.08474437,  1.098599  , -0.26313987, -0.5855714 , -0.59066826],\n",
       "       [-0.598346  ,  0.18435042, -0.39772657, -0.5722125 ,  0.30693164,\n",
       "        -0.06262851,  0.6068341 , -0.0366582 , -0.8595244 , -0.22492827]],\n",
       "      dtype=float32)"
      ]
     },
     "execution_count": 8,
     "metadata": {},
     "output_type": "execute_result"
    }
   ],
   "source": [
    "predictions = model(x_trainNew[:5]).numpy()\n",
    "predictions"
   ]
  },
  {
   "cell_type": "code",
   "execution_count": 9,
   "metadata": {},
   "outputs": [
    {
     "data": {
      "text/plain": [
       "array([[0.0412054 , 0.16813025, 0.06253488, 0.04913992, 0.14781584,\n",
       "        0.10581068, 0.31472635, 0.02923144, 0.0315663 , 0.0498389 ],\n",
       "       [0.03836123, 0.11531344, 0.07608639, 0.09196025, 0.07116486,\n",
       "        0.12105238, 0.34058264, 0.05111439, 0.05003744, 0.04432704],\n",
       "       [0.09007046, 0.12448651, 0.06771971, 0.09674507, 0.19236101,\n",
       "        0.10810024, 0.15809235, 0.06190121, 0.05172871, 0.04879484],\n",
       "       [0.06909589, 0.12416098, 0.05375483, 0.06226031, 0.1492925 ,\n",
       "        0.09875023, 0.27217585, 0.0697355 , 0.05051539, 0.05025858],\n",
       "       [0.05906284, 0.12919186, 0.07218422, 0.06062671, 0.14603989,\n",
       "        0.10091913, 0.19711399, 0.10357437, 0.04548687, 0.08580007]],\n",
       "      dtype=float32)"
      ]
     },
     "execution_count": 9,
     "metadata": {},
     "output_type": "execute_result"
    }
   ],
   "source": [
    "tf.nn.softmax(predictions).numpy()"
   ]
  },
  {
   "cell_type": "code",
   "execution_count": 10,
   "metadata": {},
   "outputs": [],
   "source": [
    "loss_fn = tf.keras.losses.SparseCategoricalCrossentropy(from_logits=True)"
   ]
  },
  {
   "cell_type": "code",
   "execution_count": 11,
   "metadata": {},
   "outputs": [
    {
     "data": {
      "text/plain": [
       "2.3394208"
      ]
     },
     "execution_count": 11,
     "metadata": {},
     "output_type": "execute_result"
    }
   ],
   "source": [
    "loss_fn(y_trainNew[:5], predictions).numpy()"
   ]
  },
  {
   "cell_type": "code",
   "execution_count": 12,
   "metadata": {},
   "outputs": [],
   "source": [
    "model.compile(optimizer='adam',\n",
    "              loss=loss_fn,\n",
    "              metrics=['accuracy'])"
   ]
  },
  {
   "cell_type": "code",
   "execution_count": 13,
   "metadata": {},
   "outputs": [
    {
     "name": "stdout",
     "output_type": "stream",
     "text": [
      "Epoch 1/5\n",
      "1500/1500 [==============================] - 3s 2ms/step - loss: 0.3268 - accuracy: 0.9051 - val_loss: 0.1601 - val_accuracy: 0.9543\n",
      "Epoch 2/5\n",
      "1500/1500 [==============================] - 2s 1ms/step - loss: 0.1551 - accuracy: 0.9549 - val_loss: 0.1129 - val_accuracy: 0.9660\n",
      "Epoch 3/5\n",
      "1500/1500 [==============================] - 2s 1ms/step - loss: 0.1166 - accuracy: 0.9642 - val_loss: 0.0977 - val_accuracy: 0.9697\n",
      "Epoch 4/5\n",
      "1500/1500 [==============================] - 2s 1ms/step - loss: 0.0922 - accuracy: 0.9719 - val_loss: 0.0878 - val_accuracy: 0.9746\n",
      "Epoch 5/5\n",
      "1500/1500 [==============================] - 2s 2ms/step - loss: 0.0807 - accuracy: 0.9749 - val_loss: 0.0867 - val_accuracy: 0.9744\n"
     ]
    },
    {
     "data": {
      "text/plain": [
       "<tensorflow.python.keras.callbacks.History at 0x17e803a9308>"
      ]
     },
     "execution_count": 13,
     "metadata": {},
     "output_type": "execute_result"
    }
   ],
   "source": [
    "model.fit(x_trainNew, y_trainNew, epochs=5, validation_data = (x_validate, y_validate))"
   ]
  },
  {
   "cell_type": "code",
   "execution_count": 14,
   "metadata": {},
   "outputs": [
    {
     "name": "stdout",
     "output_type": "stream",
     "text": [
      "313/313 - 0s - loss: 0.0769 - accuracy: 0.9762\n"
     ]
    },
    {
     "data": {
      "text/plain": [
       "[0.07688598334789276, 0.9761999845504761]"
      ]
     },
     "execution_count": 14,
     "metadata": {},
     "output_type": "execute_result"
    }
   ],
   "source": [
    "model.evaluate(x_test,  y_test, verbose=2)"
   ]
  },
  {
   "cell_type": "code",
   "execution_count": 15,
   "metadata": {},
   "outputs": [],
   "source": [
    "probability_model = tf.keras.Sequential([\n",
    "  model,\n",
    "  tf.keras.layers.Softmax()\n",
    "])"
   ]
  },
  {
   "cell_type": "code",
   "execution_count": 16,
   "metadata": {
    "scrolled": false
   },
   "outputs": [
    {
     "data": {
      "text/plain": [
       "<tf.Tensor: shape=(5, 10), dtype=float32, numpy=\n",
       "array([[2.25397571e-07, 1.19142718e-09, 3.42984022e-05, 6.62059683e-05,\n",
       "        1.02392036e-11, 3.96344063e-07, 4.39302491e-14, 9.99892116e-01,\n",
       "        1.52432449e-08, 6.82486780e-06],\n",
       "       [2.89757018e-09, 4.54074005e-04, 9.99508023e-01, 2.56610656e-05,\n",
       "        1.69512373e-15, 1.15225464e-06, 1.62345692e-08, 8.54804712e-14,\n",
       "        1.11315903e-05, 1.14688415e-11],\n",
       "       [2.71177578e-06, 9.98369992e-01, 1.16402334e-04, 5.32121476e-06,\n",
       "        3.82864324e-04, 1.88470040e-05, 5.75354206e-05, 6.99708064e-04,\n",
       "        3.36046156e-04, 1.06439984e-05],\n",
       "       [9.99908924e-01, 1.42646250e-09, 5.63766553e-05, 1.76848459e-06,\n",
       "        1.80404854e-07, 4.18963145e-06, 5.04480977e-06, 3.09938559e-06,\n",
       "        1.05928546e-08, 2.04251064e-05],\n",
       "       [3.41913346e-06, 2.97156042e-08, 2.36852247e-06, 2.15189448e-08,\n",
       "        9.96450067e-01, 2.28523035e-07, 2.42573024e-05, 1.40479897e-04,\n",
       "        1.56516342e-06, 3.37755168e-03]], dtype=float32)>"
      ]
     },
     "execution_count": 16,
     "metadata": {},
     "output_type": "execute_result"
    }
   ],
   "source": [
    "probability_model(x_test[:5])"
   ]
  },
  {
   "cell_type": "code",
   "execution_count": 17,
   "metadata": {},
   "outputs": [],
   "source": [
    "#Without KFold: accuracy = .9764, init loss function = 2.689857\n",
    "#With KFold: accuracy = .9762, init loss function = 2.3394208"
   ]
  }
 ],
 "metadata": {
  "kernelspec": {
   "display_name": "Python 3",
   "language": "python",
   "name": "python3"
  },
  "language_info": {
   "codemirror_mode": {
    "name": "ipython",
    "version": 3
   },
   "file_extension": ".py",
   "mimetype": "text/x-python",
   "name": "python",
   "nbconvert_exporter": "python",
   "pygments_lexer": "ipython3",
   "version": "3.7.6"
  }
 },
 "nbformat": 4,
 "nbformat_minor": 4
}
