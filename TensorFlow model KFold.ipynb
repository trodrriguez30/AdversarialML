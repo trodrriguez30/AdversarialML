{
 "cells": [
  {
   "cell_type": "code",
   "execution_count": 1,
   "metadata": {},
   "outputs": [],
   "source": [
    "import tensorflow as tf\n",
    "from sklearn.model_selection import KFold"
   ]
  },
  {
   "cell_type": "code",
   "execution_count": 2,
   "metadata": {},
   "outputs": [],
   "source": [
    "mnist = tf.keras.datasets.mnist\n",
    "\n",
    "(x_train, y_train), (x_test, y_test) = mnist.load_data()\n"
   ]
  },
  {
   "cell_type": "code",
   "execution_count": 3,
   "metadata": {},
   "outputs": [],
   "source": [
    "x_train, x_test = x_train / 255.0, x_test / 255.0"
   ]
  },
  {
   "cell_type": "code",
   "execution_count": 4,
   "metadata": {},
   "outputs": [],
   "source": [
    "kf = KFold(n_splits = 5)"
   ]
  },
  {
   "cell_type": "code",
   "execution_count": 5,
   "metadata": {},
   "outputs": [],
   "source": [
    "for train_index, val_index in kf.split(x_train):\n",
    "    x_trainNew, x_validate = x_train[train_index], x_train[val_index]\n",
    "    y_trainNew, y_validate = y_train[train_index], y_train[val_index]\n",
    "    "
   ]
  },
  {
   "cell_type": "code",
   "execution_count": 6,
   "metadata": {},
   "outputs": [],
   "source": [
    "model = tf.keras.models.Sequential([\n",
    "  tf.keras.layers.Flatten(input_shape=(28, 28)),\n",
    "  tf.keras.layers.Dense(128, activation='relu'),\n",
    "  tf.keras.layers.Dropout(0.2),\n",
    "  tf.keras.layers.Dense(10)\n",
    "])\n"
   ]
  },
  {
   "cell_type": "code",
   "execution_count": 7,
   "metadata": {},
   "outputs": [
    {
     "data": {
      "text/plain": [
       "<generator object _BaseKFold.split at 0x0000020D800088C8>"
      ]
     },
     "execution_count": 7,
     "metadata": {},
     "output_type": "execute_result"
    }
   ],
   "source": [
    "kf.split(x_train)"
   ]
  },
  {
   "cell_type": "code",
   "execution_count": 8,
   "metadata": {},
   "outputs": [
    {
     "data": {
      "text/plain": [
       "array([[-0.56863916,  0.48715016,  0.918115  ,  0.20932673, -0.34033895,\n",
       "         0.00482205,  0.376382  ,  0.18755674,  0.0556089 , -0.20087108],\n",
       "       [ 0.01784399,  0.42656547,  0.4839636 , -0.33098048, -0.67142874,\n",
       "         0.5823812 ,  0.11994042, -0.12319333,  0.02701378, -0.00309842],\n",
       "       [-0.42536652, -0.09492633,  0.13521388, -0.6215933 ,  0.23637794,\n",
       "         0.5459731 ,  0.5312194 ,  0.28240892,  0.15680578, -0.01617901],\n",
       "       [-0.02080064,  0.13191366,  0.70834494,  0.23154882, -0.25943685,\n",
       "         0.2619541 ,  0.43560153, -0.01516246, -0.0087954 , -0.7256506 ],\n",
       "       [-0.95274067,  0.65920955,  0.118721  ,  0.49051687, -0.5086674 ,\n",
       "        -0.32423648,  0.53903645, -0.35202697, -0.17892955, -0.7803909 ]],\n",
       "      dtype=float32)"
      ]
     },
     "execution_count": 8,
     "metadata": {},
     "output_type": "execute_result"
    }
   ],
   "source": [
    "predictions = model(x_trainNew[:5]).numpy()\n",
    "predictions"
   ]
  },
  {
   "cell_type": "code",
   "execution_count": 9,
   "metadata": {},
   "outputs": [
    {
     "data": {
      "text/plain": [
       "array([[0.04647006, 0.13356623, 0.20552391, 0.10116715, 0.05838788,\n",
       "        0.08245638, 0.11956131, 0.09898854, 0.08675224, 0.06712633],\n",
       "       [0.09066827, 0.136446  , 0.14450687, 0.063968  , 0.04551012,\n",
       "        0.15945227, 0.10041422, 0.07874148, 0.0915035 , 0.0887892 ],\n",
       "       [0.0572327 , 0.07964391, 0.10025388, 0.04703531, 0.11092672,\n",
       "        0.15117908, 0.148965  , 0.11615214, 0.1024421 , 0.08616921],\n",
       "       [0.08525057, 0.09931625, 0.17675073, 0.10972139, 0.067152  ,\n",
       "        0.11310873, 0.13455823, 0.08573259, 0.0862802 , 0.04212936],\n",
       "       [0.03813148, 0.19113699, 0.11133034, 0.1614665 , 0.05944868,\n",
       "        0.07148905, 0.16949396, 0.06952969, 0.08266954, 0.04530375]],\n",
       "      dtype=float32)"
      ]
     },
     "execution_count": 9,
     "metadata": {},
     "output_type": "execute_result"
    }
   ],
   "source": [
    "tf.nn.softmax(predictions).numpy()"
   ]
  },
  {
   "cell_type": "code",
   "execution_count": 10,
   "metadata": {},
   "outputs": [],
   "source": [
    "loss_fn = tf.keras.losses.SparseCategoricalCrossentropy(from_logits=True)"
   ]
  },
  {
   "cell_type": "code",
   "execution_count": 11,
   "metadata": {},
   "outputs": [
    {
     "data": {
      "text/plain": [
       "2.499746"
      ]
     },
     "execution_count": 11,
     "metadata": {},
     "output_type": "execute_result"
    }
   ],
   "source": [
    "loss_fn(y_trainNew[:5], predictions).numpy()"
   ]
  },
  {
   "cell_type": "code",
   "execution_count": 12,
   "metadata": {},
   "outputs": [],
   "source": [
    "model.compile(optimizer='adam',\n",
    "              loss=loss_fn,\n",
    "              metrics=['accuracy'])"
   ]
  },
  {
   "cell_type": "code",
   "execution_count": 13,
   "metadata": {},
   "outputs": [
    {
     "name": "stdout",
     "output_type": "stream",
     "text": [
      "Epoch 1/10\n",
      "960/960 [==============================] - 2s 2ms/step - loss: 0.3529 - accuracy: 0.8992 - val_loss: 0.1740 - val_accuracy: 0.9513\n",
      "Epoch 2/10\n",
      "960/960 [==============================] - 2s 2ms/step - loss: 0.1725 - accuracy: 0.9491 - val_loss: 0.1301 - val_accuracy: 0.9622\n",
      "Epoch 3/10\n",
      "960/960 [==============================] - 2s 2ms/step - loss: 0.1288 - accuracy: 0.9619 - val_loss: 0.1029 - val_accuracy: 0.9691\n",
      "Epoch 4/10\n",
      "960/960 [==============================] - 2s 2ms/step - loss: 0.1026 - accuracy: 0.9693 - val_loss: 0.0944 - val_accuracy: 0.9722\n",
      "Epoch 5/10\n",
      "960/960 [==============================] - 2s 2ms/step - loss: 0.0868 - accuracy: 0.9732 - val_loss: 0.0869 - val_accuracy: 0.9727\n",
      "Epoch 6/10\n",
      "960/960 [==============================] - 2s 2ms/step - loss: 0.0761 - accuracy: 0.9768 - val_loss: 0.0859 - val_accuracy: 0.9737\n",
      "Epoch 7/10\n",
      "960/960 [==============================] - 2s 2ms/step - loss: 0.0645 - accuracy: 0.9796 - val_loss: 0.0794 - val_accuracy: 0.9760\n",
      "Epoch 8/10\n",
      "960/960 [==============================] - 2s 2ms/step - loss: 0.0588 - accuracy: 0.9815 - val_loss: 0.0835 - val_accuracy: 0.9760\n",
      "Epoch 9/10\n",
      "960/960 [==============================] - 2s 2ms/step - loss: 0.0539 - accuracy: 0.9826 - val_loss: 0.0802 - val_accuracy: 0.9768\n",
      "Epoch 10/10\n",
      "960/960 [==============================] - 2s 2ms/step - loss: 0.0487 - accuracy: 0.9841 - val_loss: 0.0810 - val_accuracy: 0.9768\n"
     ]
    },
    {
     "data": {
      "text/plain": [
       "<tensorflow.python.keras.callbacks.History at 0x20d8a538208>"
      ]
     },
     "execution_count": 13,
     "metadata": {},
     "output_type": "execute_result"
    }
   ],
   "source": [
    "model.fit(x_trainNew, y_trainNew, epochs=10, validation_data = (x_validate, y_validate), batch_size = 50)"
   ]
  },
  {
   "cell_type": "code",
   "execution_count": 14,
   "metadata": {},
   "outputs": [
    {
     "name": "stdout",
     "output_type": "stream",
     "text": [
      "313/313 - 0s - loss: 0.0708 - accuracy: 0.9797\n"
     ]
    },
    {
     "data": {
      "text/plain": [
       "[0.07077046483755112, 0.9797000288963318]"
      ]
     },
     "execution_count": 14,
     "metadata": {},
     "output_type": "execute_result"
    }
   ],
   "source": [
    "model.evaluate(x_test,  y_test, verbose=2)"
   ]
  },
  {
   "cell_type": "code",
   "execution_count": 15,
   "metadata": {},
   "outputs": [],
   "source": [
    "probability_model = tf.keras.Sequential([\n",
    "  model,\n",
    "  tf.keras.layers.Softmax()\n",
    "])"
   ]
  },
  {
   "cell_type": "code",
   "execution_count": 16,
   "metadata": {
    "scrolled": false
   },
   "outputs": [
    {
     "data": {
      "text/plain": [
       "<tf.Tensor: shape=(5, 10), dtype=float32, numpy=\n",
       "array([[1.22530674e-09, 3.73228914e-09, 7.76893614e-07, 9.16007848e-05,\n",
       "        1.84010495e-13, 8.07300093e-09, 3.10705048e-13, 9.99906778e-01,\n",
       "        1.00173963e-07, 6.93777906e-07],\n",
       "       [2.68920797e-09, 2.37271342e-05, 9.99974370e-01, 1.72356590e-06,\n",
       "        1.18596700e-18, 4.04456486e-08, 2.67031321e-08, 5.53421364e-16,\n",
       "        2.82407996e-07, 9.07896669e-15],\n",
       "       [1.24879057e-06, 9.98585820e-01, 4.51339620e-05, 4.99264752e-06,\n",
       "        7.55726569e-06, 1.46426896e-06, 1.00686266e-05, 1.04680681e-03,\n",
       "        2.96944490e-04, 1.72672060e-07],\n",
       "       [9.99761522e-01, 1.12232659e-08, 2.16959132e-04, 6.66968845e-08,\n",
       "        3.91663013e-09, 2.97716838e-06, 1.43862635e-05, 3.48822232e-06,\n",
       "        5.78243409e-09, 6.51074117e-07],\n",
       "       [1.02093293e-06, 7.80819942e-09, 9.37675577e-06, 2.68124083e-08,\n",
       "        9.97686625e-01, 9.15143090e-08, 1.41833589e-05, 3.43706852e-05,\n",
       "        5.53745622e-07, 2.25371704e-03]], dtype=float32)>"
      ]
     },
     "execution_count": 16,
     "metadata": {},
     "output_type": "execute_result"
    }
   ],
   "source": [
    "probability_model(x_test[:5])"
   ]
  },
  {
   "cell_type": "code",
   "execution_count": 17,
   "metadata": {},
   "outputs": [],
   "source": [
    "#Without KFold: accuracy = .9764, init loss function = 2.689857\n",
    "#With KFold: accuracy = .9762, init loss function = 2.3394208"
   ]
  }
 ],
 "metadata": {
  "kernelspec": {
   "display_name": "Python 3",
   "language": "python",
   "name": "python3"
  },
  "language_info": {
   "codemirror_mode": {
    "name": "ipython",
    "version": 3
   },
   "file_extension": ".py",
   "mimetype": "text/x-python",
   "name": "python",
   "nbconvert_exporter": "python",
   "pygments_lexer": "ipython3",
   "version": "3.7.6"
  }
 },
 "nbformat": 4,
 "nbformat_minor": 4
}
