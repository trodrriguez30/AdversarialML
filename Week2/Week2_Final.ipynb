{
 "cells": [
  {
   "cell_type": "code",
   "execution_count": 1,
   "metadata": {},
   "outputs": [],
   "source": [
    "import tensorflow as tf \n",
    "import foolbox as fb \n",
    "from sklearn.model_selection import KFold \n",
    "import numpy as np\n",
    "import eagerpy as ep\n",
    "from foolbox import TensorFlowModel\n",
    "from foolbox import PyTorchModel, accuracy, samples\n",
    "import foolbox.attacks as fa\n",
    "from foolbox.attacks import LinfPGD, BoundaryAttack, FGSM, LinfDeepFoolAttack\n",
    "import matplotlib.pyplot as plt\n",
    "import time\n",
   ]
  },
  {
   "cell_type": "code",
   "execution_count": 2,
   "metadata": {},
   "outputs": [],
   "source": [
    "mnist = tf.keras.datasets.mnist\n",
    "(x_train, y_train), (x_test, y_test) = mnist.load_data()\n",
    "x_train, x_test = x_train / 255.0, x_test / 255.0"
   ]
  },
  {
   "cell_type": "code",
   "execution_count": 3,
   "metadata": {},
   "outputs": [],
   "source": [
    "model = tf.keras.models.Sequential([\n",
    "  tf.keras.layers.Flatten(input_shape=(28, 28)),\n",
    "  tf.keras.layers.Dense(128, activation='relu'),\n",
    "  tf.keras.layers.Dropout(0.2),\n",
    "  tf.keras.layers.Dense(10)\n",
    "])"
   ]
  },
  {
   "cell_type": "code",
   "execution_count": 4,
   "metadata": {},
   "outputs": [],
   "source": [
    "loss_fn = tf.keras.losses.SparseCategoricalCrossentropy(from_logits=True)"
   ]
  },
  {
   "cell_type": "code",
   "execution_count": 5,
   "metadata": {},
   "outputs": [],
   "source": [
    "model.compile(optimizer=\"adam\",\n",
    "                loss=loss_fn,\n",
    "                metrics=['accuracy'])"
   ]
  },
  {
   "cell_type": "code",
   "execution_count": 6,
   "metadata": {},
   "outputs": [
    {
     "data": {
      "text/plain": [
       "5"
      ]
     },
     "execution_count": 6,
     "metadata": {},
     "output_type": "execute_result"
    }
   ],
   "source": [
    "kf = KFold(n_splits = 5)\n",
    "kf.get_n_splits(x_train)"
   ]
  },
  {
   "cell_type": "code",
   "execution_count": 7,
   "metadata": {},
   "outputs": [
    {
     "name": "stdout",
     "output_type": "stream",
     "text": [
      "Epoch 1/5\n",
      "1500/1500 [==============================] - 3s 2ms/step - loss: 0.3292 - accuracy: 0.9045 - val_loss: 0.1696 - val_accuracy: 0.9503\n",
      "Epoch 2/5\n",
      "1500/1500 [==============================] - 3s 2ms/step - loss: 0.1618 - accuracy: 0.9513 - val_loss: 0.1211 - val_accuracy: 0.9636\n",
      "Epoch 3/5\n",
      "1500/1500 [==============================] - 3s 2ms/step - loss: 0.1217 - accuracy: 0.9631 - val_loss: 0.0984 - val_accuracy: 0.9686\n",
      "Epoch 4/5\n",
      "1500/1500 [==============================] - 2s 2ms/step - loss: 0.0951 - accuracy: 0.9707 - val_loss: 0.0852 - val_accuracy: 0.9740\n",
      "Epoch 5/5\n",
      "1500/1500 [==============================] - 2s 2ms/step - loss: 0.0827 - accuracy: 0.9741 - val_loss: 0.0833 - val_accuracy: 0.9747\n",
      "Epoch 1/5\n",
      "1500/1500 [==============================] - 3s 2ms/step - loss: 0.0786 - accuracy: 0.9758 - val_loss: 0.0528 - val_accuracy: 0.9828\n",
      "Epoch 2/5\n",
      "1500/1500 [==============================] - 2s 2ms/step - loss: 0.0687 - accuracy: 0.9784 - val_loss: 0.0517 - val_accuracy: 0.9836\n",
      "Epoch 3/5\n",
      "1500/1500 [==============================] - 3s 2ms/step - loss: 0.0576 - accuracy: 0.9821 - val_loss: 0.0507 - val_accuracy: 0.9822\n",
      "Epoch 4/5\n",
      "1500/1500 [==============================] - 3s 2ms/step - loss: 0.0543 - accuracy: 0.9824 - val_loss: 0.0554 - val_accuracy: 0.9819\n",
      "Epoch 5/5\n",
      "1500/1500 [==============================] - 3s 2ms/step - loss: 0.0495 - accuracy: 0.9839 - val_loss: 0.0537 - val_accuracy: 0.9834\n",
      "Epoch 1/5\n",
      "1500/1500 [==============================] - 2s 2ms/step - loss: 0.0545 - accuracy: 0.9825 - val_loss: 0.0251 - val_accuracy: 0.9912\n",
      "Epoch 2/5\n",
      "1500/1500 [==============================] - 3s 2ms/step - loss: 0.0451 - accuracy: 0.9850 - val_loss: 0.0269 - val_accuracy: 0.9911\n",
      "Epoch 3/5\n",
      "1500/1500 [==============================] - 3s 2ms/step - loss: 0.0412 - accuracy: 0.9860 - val_loss: 0.0314 - val_accuracy: 0.9889\n",
      "Epoch 4/5\n",
      "1500/1500 [==============================] - 3s 2ms/step - loss: 0.0376 - accuracy: 0.9874 - val_loss: 0.0367 - val_accuracy: 0.9875\n",
      "Epoch 5/5\n",
      "1500/1500 [==============================] - 3s 2ms/step - loss: 0.0356 - accuracy: 0.9880 - val_loss: 0.0345 - val_accuracy: 0.9891\n",
      "Epoch 1/5\n",
      "1500/1500 [==============================] - 3s 2ms/step - loss: 0.0407 - accuracy: 0.9863 - val_loss: 0.0159 - val_accuracy: 0.9952\n",
      "Epoch 2/5\n",
      "1500/1500 [==============================] - 3s 2ms/step - loss: 0.0341 - accuracy: 0.9889 - val_loss: 0.0192 - val_accuracy: 0.9935\n",
      "Epoch 3/5\n",
      "1500/1500 [==============================] - 3s 2ms/step - loss: 0.0298 - accuracy: 0.9902 - val_loss: 0.0211 - val_accuracy: 0.9929\n",
      "Epoch 4/5\n",
      "1500/1500 [==============================] - 3s 2ms/step - loss: 0.0308 - accuracy: 0.9893 - val_loss: 0.0260 - val_accuracy: 0.9916\n",
      "Epoch 5/5\n",
      "1500/1500 [==============================] - 2s 2ms/step - loss: 0.0298 - accuracy: 0.9897 - val_loss: 0.0245 - val_accuracy: 0.9928\n",
      "Epoch 1/5\n",
      "1500/1500 [==============================] - 2s 2ms/step - loss: 0.0327 - accuracy: 0.9894 - val_loss: 0.0077 - val_accuracy: 0.9977\n",
      "Epoch 2/5\n",
      "1500/1500 [==============================] - 2s 2ms/step - loss: 0.0294 - accuracy: 0.9901 - val_loss: 0.0105 - val_accuracy: 0.9972\n",
      "Epoch 3/5\n",
      "1500/1500 [==============================] - 2s 2ms/step - loss: 0.0268 - accuracy: 0.9909 - val_loss: 0.0109 - val_accuracy: 0.9970\n",
      "Epoch 4/5\n",
      "1500/1500 [==============================] - 3s 2ms/step - loss: 0.0263 - accuracy: 0.9910 - val_loss: 0.0172 - val_accuracy: 0.9942\n",
      "Epoch 5/5\n",
      "1500/1500 [==============================] - 3s 2ms/step - loss: 0.0255 - accuracy: 0.9914 - val_loss: 0.0152 - val_accuracy: 0.9946\n"
     ]
    }
   ],
   "source": [
    "for train_index, val_index in kf.split(x_train):\n",
    "    x_trainNew, x_validate = x_train[train_index], x_train[val_index]\n",
    "    y_trainNew, y_validate = y_train[train_index], y_train[val_index]\n",
    "    \n",
    "    model.fit(x_trainNew, y_trainNew, epochs=5, validation_data = (x_validate, y_validate))"
   ]
  },
  {
   "cell_type": "code",
   "execution_count": 8,
   "metadata": {},
   "outputs": [
    {
     "name": "stdout",
     "output_type": "stream",
     "text": [
      "WARNING:tensorflow:From C:\\Users\\littllittl\\anaconda3\\lib\\site-packages\\foolbox\\models\\tensorflow.py:13: is_gpu_available (from tensorflow.python.framework.test_util) is deprecated and will be removed in a future version.\n",
      "Instructions for updating:\n",
      "Use `tf.config.list_physical_devices('GPU')` instead.\n"
     ]
    }
   ],
   "source": [
    "fmodel = fb.TensorFlowModel(model, bounds=(0,1))"
   ]
  },
  {
   "cell_type": "code",
   "execution_count": 9,
   "metadata": {},
   "outputs": [],
   "source": [
    "images, labels = ep.astensors(*samples(fmodel, dataset='mnist', batchsize=1))"
   ]
  },
  {
   "cell_type": "code",
   "execution_count": 10,
   "metadata": {},
   "outputs": [],
   "source": [
    "attacks = [\n",
    "    fb.attacks.L2DeepFoolAttack(steps=500),\n",
    "    fb.attacks.FGSM(),\n",
    "    fb.attacks.PGD(steps=500)\n",
    "    ]\n",
    "\n",
    "epsilons = [\n",
    "       0,\n",
    "       0.1,\n",
    "       0.3,\n",
    "       0.5,\n",
    "       0.75,\n",
    "       1\n",
    "    ]"
   ]
  },
  {
   "cell_type": "code",
   "execution_count": 11,
   "metadata": {},
   "outputs": [
    {
     "name": "stdout",
     "output_type": "stream",
     "text": [
      "L2DeepFoolAttack(steps=500, candidates=10, overshoot=0.02, loss=logits)\n",
      "   [0. 0. 0. 0. 1. 1.]\n",
      "LinfFastGradientAttack(rel_stepsize=1.0, abs_stepsize=None, steps=1, random_start=False)\n",
      "   [0. 1. 1. 1. 1. 1.]\n",
      "LinfProjectedGradientDescentAttack(rel_stepsize=0.03333333333333333, abs_stepsize=None, steps=500, random_start=True)\n",
      "   [0. 1. 1. 1. 1. 1.]\n"
     ]
    }
   ],
   "source": [
    "attack_success = np.zeros((len(attacks), len(epsilons), len(images)), dtype=np.bool)\n",
    "#advs_images=[]\n",
    "\n",
    "for i, attack in enumerate(attacks):\n",
    "    advs, _, success = attack(fmodel, images, labels, epsilons=epsilons)\n",
    "\n",
    "    #advs_images.append(advs)     # keep attacks in order of run\n",
    "\n",
    "\n",
    "    assert success.shape == (len(epsilons), len(images))\n",
    "    success_ = success.numpy()\n",
    "    assert success_.dtype == np.bool\n",
    "    attack_success[i] = success_\n",
    "    print(attack)\n",
    "    print(\"  \",  success_.mean(axis=-1).round(4))"
   ]
  },
  {
   "cell_type": "code",
   "execution_count": 12,
   "metadata": {},
   "outputs": [
    {
     "name": "stderr",
     "output_type": "stream",
     "text": [
      "C:\\Users\\littllittl\\anaconda3\\lib\\site-packages\\foolbox\\utils.py:81: UserWarning: samples() has only 20 samples and repeats itself if batchsize > 20\n",
      "  \"samples() has only 20 samples and repeats itself if batchsize > 20\"\n"
     ]
    }
   ],
   "source": [
    "fmodel = fb.TensorFlowModel(model, bounds=(0,1))\n",
    "images, labels =ep.astensors(*samples(fmodel, dataset='mnist', batchsize=100))\n",
    "test_lables=labels.numpy()"
   ]
  },
  {
   "cell_type": "code",
   "execution_count": 13,
   "metadata": {},
   "outputs": [],
   "source": [
    "attacks_100 = [\n",
    "    fb.attacks.L2DeepFoolAttack(steps=500),\n",
    "    fb.attacks.FGSM(),\n",
    "    fb.attacks.PGD(steps=500)\n",
    "    ]\n",
    "\n",
    "epsilons_100 =[0.0,\n",
    "            0.025,\n",
    "            0.05,\n",
    "            0.1]"
   ]
  },
  {
   "cell_type": "code",
   "execution_count": 14,
   "metadata": {},
   "outputs": [
    {
     "name": "stdout",
     "output_type": "stream",
     "text": [
      "L2DeepFoolAttack(steps=500, candidates=10, overshoot=0.02, loss=logits)\n",
      "   [0.05 0.15 0.6  1.  ]\n",
      "LinfFastGradientAttack(rel_stepsize=1.0, abs_stepsize=None, steps=1, random_start=False)\n",
      "   [0.05 0.15 0.6  1.  ]\n",
      "LinfProjectedGradientDescentAttack(rel_stepsize=0.03333333333333333, abs_stepsize=None, steps=500, random_start=True)\n",
      "   [0.05 0.15 0.6  1.  ]\n"
     ]
    }
   ],
   "source": [
    "L2_norm=[]\n",
    "attack_time=[] #-time for 100 images for varing epsilons\n",
    "advs_success=np.zeros((len(attacks_100),len(epsilons_100)))\n",
    "attack_success2 = np.zeros((len(attacks_100), len(epsilons_100), len(images)), dtype=np.bool)\n",
    "#adversarial_images2=[]\n",
    "for i, attack2 in enumerate(attacks_100):\n",
    "    t0=time.time()\n",
    "    advs2, _, success2 = attack(fmodel, images, labels, epsilons=epsilons_100)\n",
    "    t1=time.time()\n",
    "    attack_time.append(t1-t0)#-record average time for finding 100 adversarial example with varying epsilons\n",
    "\n",
    "    #adversarial_images2.append(advs2)     # keep attacks in order of run\n",
    "\n",
    "\n",
    "    assert success2.shape == (len(epsilons_100), len(images))\n",
    "    success_2 = success2.numpy()\n",
    "    assert success_2.dtype == np.bool\n",
    "    attack_success2[i] = success_2\n",
    "    print(attack2)\n",
    "    advs_success[i] = success_2.mean(axis=-1).round(2)\n",
    "    print(\"  \",  advs_success[i])"
   ]
  },
  {
   "cell_type": "code",
   "execution_count": 15,
   "metadata": {},
   "outputs": [],
   "source": [
    "def L2_collect(attack_type,epsilon_index):\n",
    "   \n",
    "    images__=[image.numpy() for image in adversarial_images2[attack_type][epsilon_index]]\n",
    "    images_=images.numpy()\n",
    "    L2_dist=[]\n",
    "    for i in range(len(images__)):\n",
    "        truth = labels[i]\n",
    "        prediction = np.argmax(model.predict(images__[i].reshape((1,28,28))))\n",
    "        L2_dist.append((np.sum((images_[i].squeeze()-images__[i].squeeze())**2)) **(0.5) )  #-commpute the L2 norm diffrence\n",
    "    L2_norm.append(np.average(L2_dist))    #- take the average"
   ]
  },
  {
   "cell_type": "code",
   "execution_count": 16,
   "metadata": {},
   "outputs": [],
   "source": [
    "L2_collect(0,0)"
   ]
  },
  {
   "cell_type": "code",
   "execution_count": 17,
   "metadata": {},
   "outputs": [],
   "source": [
    "L2_collect(0,1)"
   ]
  },
  {
   "cell_type": "code",
   "execution_count": 18,
   "metadata": {},
   "outputs": [],
   "source": [
    "L2_collect(0,2)"
   ]
  },
  {
   "cell_type": "code",
   "execution_count": 19,
   "metadata": {},
   "outputs": [],
   "source": [
    "L2_collect(0,3)"
   ]
  },
  {
   "cell_type": "code",
   "execution_count": 20,
   "metadata": {},
   "outputs": [],
   "source": [
    "L2_collect(1,0)"
   ]
  },
  {
   "cell_type": "code",
   "execution_count": 21,
   "metadata": {},
   "outputs": [],
   "source": [
    "L2_collect(1,1)"
   ]
  },
  {
   "cell_type": "code",
   "execution_count": 22,
   "metadata": {},
   "outputs": [],
   "source": [
    "L2_collect(1,2)"
   ]
  },
  {
   "cell_type": "code",
   "execution_count": 23,
   "metadata": {},
   "outputs": [],
   "source": [
    "L2_collect(1,3)"
   ]
  },
  {
   "cell_type": "code",
   "execution_count": 24,
   "metadata": {},
   "outputs": [],
   "source": [
    "L2_collect(2,0)"
   ]
  },
  {
   "cell_type": "code",
   "execution_count": 25,
   "metadata": {},
   "outputs": [],
   "source": [
    "L2_collect(2,1)"
   ]
  },
  {
   "cell_type": "code",
   "execution_count": 26,
   "metadata": {},
   "outputs": [],
   "source": [
    "L2_collect(2,2)"
   ]
  },
  {
   "cell_type": "code",
   "execution_count": 27,
   "metadata": {},
   "outputs": [],
   "source": [
    "L2_collect(2,3)"
   ]
  },
  {
   "cell_type": "code",
   "execution_count": 28,
   "metadata": {},
   "outputs": [],
   "source": [
    "L2_norm_array=np.array(L2_norm).reshape((3,4))\n",
    "avg_time = np.array(attack_time).reshape((3,1))"
   ]
  },
  {
   "cell_type": "code",
   "execution_count": 29,
   "metadata": {},
   "outputs": [
    {
     "data": {
      "image/png": "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\n",
      "text/plain": [
       "<Figure size 432x288 with 1 Axes>"
      ]
     },
     "metadata": {
      "needs_background": "light"
     },
     "output_type": "display_data"
    }
   ],
   "source": [
    "plt.axis(\"off\")\n",
    "plt.title(\"Number of Advs Ex found\")\n",
    "plt.table(cellText = (advs_success*100).round(), rowLabels = (\"DeepFool\", \"FGSM\", \"PGD\"), colLabels = (\"0\", \"0.025\", \"0.05\", \"0.1\"), loc = 'center')\n",
    "\n",
    "plt.show()\n",
    "#The top row is the epsilon value"
   ]
  },
  {
   "cell_type": "code",
   "execution_count": 30,
   "metadata": {},
   "outputs": [
    {
     "data": {
      "image/png": "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\n",
      "text/plain": [
       "<Figure size 432x288 with 1 Axes>"
      ]
     },
     "metadata": {
      "needs_background": "light"
     },
     "output_type": "display_data"
    }
   ],
   "source": [
    "plt.axis(\"off\")\n",
    "plt.title(\"Average L2 Norm\")\n",
    "tables2 = plt.table(cellText = L2_norm_array, rowLabels = (\"DeepFool\", \"FGSM\", \"PGD\"), colLabels = (\"0\", \"0.025\", \"0.05\", \"0.1\"), loc = 'center')\n",
    "plt.show()"
   ]
  },
  {
   "cell_type": "code",
   "execution_count": 31,
   "metadata": {},
   "outputs": [
    {
     "data": {
      "image/png": "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\n",
      "text/plain": [
       "<Figure size 432x288 with 1 Axes>"
      ]
     },
     "metadata": {
      "needs_background": "light"
     },
     "output_type": "display_data"
    }
   ],
   "source": [
    "plt.axis(\"off\")\n",
    "plt.title(\"Average Time\")\n",
    "tables3 = plt.table(cellText = avg_time, rowLabels = (\"DeepFool\", \"FGSM\", \"PGD\"), colLabels = (\"Time (seconds)\",), loc = 'center')                      \n",
    "plt.show()"
   ]
  },
  {
   "cell_type": "code",
   "execution_count": null,
   "metadata": {},
   "outputs": [],
   "source": [
    "#I would recommend the Deel Fool attack because it is faster than the other attacks and performs just as well"
   ]
  }
 ],
 "metadata": {
  "kernelspec": {
   "display_name": "Python 3",
   "language": "python",
   "name": "python3"
  },
  "language_info": {
   "codemirror_mode": {
    "name": "ipython",
    "version": 3
   },
   "file_extension": ".py",
   "mimetype": "text/x-python",
   "name": "python",
   "nbconvert_exporter": "python",
   "pygments_lexer": "ipython3",
   "version": "3.7.6"
  }
 },
 "nbformat": 4,
 "nbformat_minor": 4
}
